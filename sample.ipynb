{
 "cells": [
  {
   "metadata": {},
   "cell_type": "markdown",
   "source": [
    "# Hito 2\n",
    "## Visualización de Información\n",
    "\n",
    "## Proyecto:\n",
    "# Analisis de metadatos de la UFC\n",
    "\n",
    "in this project we will analyze the metadata of the UFC, we will use data from three kaggle datasets:\n",
    "- [https://www.kaggle.com/datasets/danmcinerney/mma-differentials-and-elo] (mma-differentials-and-elo) let's call it \"elo\"\n",
    "- [https://www.kaggle.com/datasets/mdabbert/ufc-fights-2010-2020-with-betting-odds](ufc-fights-2010-2020-with-betting-odds) let's call it \"odds\"\n",
    "- [https://www.kaggle.com/datasets/maksbasher/ufc-complete-dataset-all-events-1996-2024](ufc-complete-dataset-all-events-1996-2024) let's call it \"elo\""
   ],
   "id": "8a77807f92f26ee"
  },
  {
   "metadata": {},
   "cell_type": "code",
   "outputs": [],
   "execution_count": null,
   "source": "print(\"Hello World!\")\n",
   "id": "fbc121e30a2defb3"
  }
 ],
 "metadata": {
  "kernelspec": {
   "display_name": "Python 3",
   "language": "python",
   "name": "python3"
  },
  "language_info": {
   "codemirror_mode": {
    "name": "ipython",
    "version": 2
   },
   "file_extension": ".py",
   "mimetype": "text/x-python",
   "name": "python",
   "nbconvert_exporter": "python",
   "pygments_lexer": "ipython2",
   "version": "2.7.6"
  }
 },
 "nbformat": 4,
 "nbformat_minor": 5
}
