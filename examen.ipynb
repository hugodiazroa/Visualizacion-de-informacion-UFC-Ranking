{
 "cells": [
  {
   "metadata": {},
   "cell_type": "markdown",
   "source": [
    "# Examen\n",
    "\n",
    "En este notebook de Jupyter haremos los gráficos que posteriormente usaremos para la entrega final en forma de tríptico. El tema a investigar a través de representaciones gráficas generadas por computador es el de como se puede generar rankings en la promoción de artes marciales mixtas Ultimate Fighting Championship (UFC). Para ver esto se creó un método de ranking llamado HD y se comparó contra una base de datos que contiene los valores de los puntajes de ranking \"entrega-final/nkshv/ELO/ELO-scraper/src/test.py\""
   ],
   "id": "1798aeff37f5f716"
  },
  {
   "cell_type": "code",
   "execution_count": null,
   "id": "initial_id",
   "metadata": {
    "collapsed": true
   },
   "outputs": [],
   "source": [
    ""
   ]
  }
 ],
 "metadata": {
  "kernelspec": {
   "display_name": "Python 3",
   "language": "python",
   "name": "python3"
  },
  "language_info": {
   "codemirror_mode": {
    "name": "ipython",
    "version": 2
   },
   "file_extension": ".py",
   "mimetype": "text/x-python",
   "name": "python",
   "nbconvert_exporter": "python",
   "pygments_lexer": "ipython2",
   "version": "2.7.6"
  }
 },
 "nbformat": 4,
 "nbformat_minor": 5
}
