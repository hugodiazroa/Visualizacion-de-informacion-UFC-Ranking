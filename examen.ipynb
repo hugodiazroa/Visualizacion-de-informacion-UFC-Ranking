{
 "cells": [
  {
   "metadata": {},
   "cell_type": "markdown",
   "source": [
    "# Examen\n",
    "\n",
    "En este notebook de Jupyter haremos los gráficos que posteriormente usaremos para la entrega final en forma de tríptico. El tema a investigar a través de representaciones gráficas generadas por computador es el de como se puede generar rankings en la promoción de artes marciales mixtas Ultimate Fighting Championship (UFC). Para ver esto se creó un método de ranking llamado HD y se comparó contra una base de datos que contiene los valores de los puntajes de ranking \"entrega-final/nkshv/ELO/ELO-scraper/src/test.py\""
   ],
   "id": "1798aeff37f5f716"
  },
  {
   "cell_type": "code",
   "id": "initial_id",
   "metadata": {
    "collapsed": true,
    "ExecuteTime": {
     "end_time": "2024-12-13T11:39:32.585295Z",
     "start_time": "2024-12-13T11:39:30.880141Z"
    }
   },
   "source": [
    "import pandas as pd\n",
    "import matplotlib.pyplot as plt"
   ],
   "outputs": [],
   "execution_count": 1
  },
  {
   "metadata": {},
   "cell_type": "markdown",
   "source": [
    "### Primera parte:\n",
    "## Manejo de bases de datos\n",
    "\n",
    "\n",
    "\n",
    "\n",
    "Primero cargamos las bases de datos que contiene los valores de las peleas de la UFC.\n",
    "\n"
   ],
   "id": "762bd765a1150376"
  },
  {
   "metadata": {
    "ExecuteTime": {
     "end_time": "2024-12-13T11:42:27.781238Z",
     "start_time": "2024-12-13T11:42:27.637268Z"
    }
   },
   "cell_type": "code",
   "source": [
    "#we load the data\n",
    "fighter_stats = pd.read_csv('/home/hd/Documents/U/2024-2/visualizacion/entrega-final/data/complete/fighter_stats.csv')\n",
    "fights_stats = pd.read_csv('/home/hd/Documents/U/2024-2/visualizacion/entrega-final/data/complete/large_dataset.csv')\n",
    "event_stats = pd.read_csv('/home/hd/Documents/U/2024-2/visualizacion/entrega-final/data/complete/medium_dataset.csv')\n",
    "odds_stats = pd.read_csv('/home/hd/Documents/U/2024-2/visualizacion/entrega-final/data/odds/ufc-master.csv')"
   ],
   "id": "6423e46aee6406ee",
   "outputs": [],
   "execution_count": 3
  },
  {
   "metadata": {},
   "cell_type": "markdown",
   "source": [
    "## Creación de la base de datos de ranking ELO\n",
    "\n",
    "\n",
    "Para crear la base de datos de ranking ELO se utilizó el código entrega-final/nkshv/ELO/ELO-scraper/src/ufc_ranking_elo.py Este código se encarga de obtener los valores de los rankings de la UFC y los guarda en un archivo csv. Supone que el archivo de rankings ya existe y que se encuentra en la carpeta /entrega-final/nkshv/ELO/ELO-scraper/csv/UFC_db.csv"
   ],
   "id": "8192f9011601d1d4"
  }
 ],
 "metadata": {
  "kernelspec": {
   "display_name": "Python 3",
   "language": "python",
   "name": "python3"
  },
  "language_info": {
   "codemirror_mode": {
    "name": "ipython",
    "version": 2
   },
   "file_extension": ".py",
   "mimetype": "text/x-python",
   "name": "python",
   "nbconvert_exporter": "python",
   "pygments_lexer": "ipython2",
   "version": "2.7.6"
  }
 },
 "nbformat": 4,
 "nbformat_minor": 5
}
